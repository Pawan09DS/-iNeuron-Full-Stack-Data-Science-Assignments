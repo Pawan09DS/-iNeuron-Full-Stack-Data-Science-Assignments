{
 "cells": [
  {
   "cell_type": "markdown",
   "id": "3fb1cd0b",
   "metadata": {},
   "source": [
    "# Assignment _ 1"
   ]
  },
  {
   "cell_type": "markdown",
   "id": "51629af1",
   "metadata": {},
   "source": [
    "# 1. In the below elements which of them are values or an expression? eg:- values can be integer or string and expressions will be mathematical operators.\n",
    "\n",
    "* \n",
    "'hello'\n",
    "-87.8\n",
    "- \n",
    "/ \n",
    "+\t\n",
    "6 \n"
   ]
  },
  {
   "cell_type": "code",
   "execution_count": null,
   "id": "91c3707c",
   "metadata": {},
   "outputs": [],
   "source": [
    "* ### It is a expression.It is a Python Arithmetic Operators.\n",
    "    Arithmetic operators are used with numeric values to perform common mathematical operations.\n",
    "    It is a Multiplication operator.###"
   ]
  },
  {
   "cell_type": "code",
   "execution_count": 11,
   "id": "e6d813ec",
   "metadata": {},
   "outputs": [
    {
     "data": {
      "text/plain": [
       "str"
      ]
     },
     "execution_count": 11,
     "metadata": {},
     "output_type": "execute_result"
    }
   ],
   "source": [
    "type('hello')##It is a values."
   ]
  },
  {
   "cell_type": "code",
   "execution_count": 12,
   "id": "a69520bb",
   "metadata": {},
   "outputs": [
    {
     "data": {
      "text/plain": [
       "float"
      ]
     },
     "execution_count": 12,
     "metadata": {},
     "output_type": "execute_result"
    }
   ],
   "source": [
    "type(-87.8)## It is a values."
   ]
  },
  {
   "cell_type": "code",
   "execution_count": null,
   "id": "d9f1678a",
   "metadata": {},
   "outputs": [],
   "source": [
    "- ### It is a expression,It is a Subtraction operator.###"
   ]
  },
  {
   "cell_type": "code",
   "execution_count": null,
   "id": "a1a6390b",
   "metadata": {},
   "outputs": [],
   "source": [
    "/ ### It is a expression,It is a Division operator.###"
   ]
  },
  {
   "cell_type": "code",
   "execution_count": null,
   "id": "aa56a375",
   "metadata": {},
   "outputs": [],
   "source": [
    "+ ### It is a expression,it is a Addition operator."
   ]
  },
  {
   "cell_type": "code",
   "execution_count": 1,
   "id": "22b1f49c",
   "metadata": {},
   "outputs": [
    {
     "data": {
      "text/plain": [
       "int"
      ]
     },
     "execution_count": 1,
     "metadata": {},
     "output_type": "execute_result"
    }
   ],
   "source": [
    "type(6) ## It is a int value.##"
   ]
  },
  {
   "cell_type": "markdown",
   "id": "2c113af9",
   "metadata": {},
   "source": [
    "# 2. What is the difference between string and variable?"
   ]
  },
  {
   "cell_type": "code",
   "execution_count": null,
   "id": "34c8508a",
   "metadata": {},
   "outputs": [],
   "source": [
    "Ans-Variables are symbols that you can use to store data in a program. \n",
    "You can think of them as an empty box that you fill with some data or value. \n",
    "Strings are data, so we can use them to fill up a variable. \n",
    "Declaring strings as variables can make it easier for us to work with strings throughout our Python programs."
   ]
  },
  {
   "cell_type": "markdown",
   "id": "ac4129e3",
   "metadata": {},
   "source": [
    "# 3. Describe three different data types."
   ]
  },
  {
   "cell_type": "code",
   "execution_count": null,
   "id": "bc2e5ae5",
   "metadata": {},
   "outputs": [],
   "source": [
    "Ans-In programming, data type is an important concept.\n",
    "\n",
    "Variables can store data of different types, and different types can do different things.\n",
    "\n",
    "Python has the following data types built-in by default, in these categories:\n",
    "A) Text Type:\tstr\n",
    "B) Numeric Types:\tint, float, complex\n",
    "C) Sequence Types:\tlist, tuple, range   "
   ]
  },
  {
   "cell_type": "markdown",
   "id": "f6677e73",
   "metadata": {},
   "source": [
    "# 4. What is an expression made up of? What do all expressions do?"
   ]
  },
  {
   "cell_type": "code",
   "execution_count": null,
   "id": "12e155fa",
   "metadata": {},
   "outputs": [],
   "source": [
    "Ans-An expression is a combination of operators and operands that is interpreted to produce some other value. \n",
    "In any programming language, an expression is evaluated as per the precedence of its operators.\n",
    "So that if there is more than one operator in an expression, their precedence decides which operation will be performed first."
   ]
  },
  {
   "cell_type": "markdown",
   "id": "ee52bb3d",
   "metadata": {},
   "source": [
    "# 5. This assignment statements, like spam = 10. What is the difference between an expression and a statement?"
   ]
  },
  {
   "cell_type": "code",
   "execution_count": null,
   "id": "cf5356a2",
   "metadata": {},
   "outputs": [],
   "source": []
  },
  {
   "cell_type": "code",
   "execution_count": null,
   "id": "92acf3da",
   "metadata": {},
   "outputs": [],
   "source": []
  }
 ],
 "metadata": {
  "kernelspec": {
   "display_name": "Python 3 (ipykernel)",
   "language": "python",
   "name": "python3"
  },
  "language_info": {
   "codemirror_mode": {
    "name": "ipython",
    "version": 3
   },
   "file_extension": ".py",
   "mimetype": "text/x-python",
   "name": "python",
   "nbconvert_exporter": "python",
   "pygments_lexer": "ipython3",
   "version": "3.9.7"
  }
 },
 "nbformat": 4,
 "nbformat_minor": 5
}
