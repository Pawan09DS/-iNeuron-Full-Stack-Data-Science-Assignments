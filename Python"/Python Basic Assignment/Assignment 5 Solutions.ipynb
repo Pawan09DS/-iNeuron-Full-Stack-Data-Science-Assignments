{
 "cells": [
  {
   "cell_type": "markdown",
   "id": "375e646b",
   "metadata": {},
   "source": [
    "# Assignment 5 Solutions"
   ]
  },
  {
   "cell_type": "code",
   "execution_count": null,
   "id": "573d905a",
   "metadata": {},
   "outputs": [],
   "source": [
    "1.What does an empty dictionary's code look like?\n",
    "Ans-An empty dictionary is often represented by two empty curly brackets\n",
    "d = {} or d = dict()\n"
   ]
  },
  {
   "cell_type": "code",
   "execution_count": 7,
   "id": "2bc3c043",
   "metadata": {},
   "outputs": [
    {
     "data": {
      "text/plain": [
       "dict"
      ]
     },
     "execution_count": 7,
     "metadata": {},
     "output_type": "execute_result"
    }
   ],
   "source": [
    "d={}\n",
    "type(d)"
   ]
  },
  {
   "cell_type": "code",
   "execution_count": 8,
   "id": "8f9e6a9b",
   "metadata": {},
   "outputs": [
    {
     "data": {
      "text/plain": [
       "dict"
      ]
     },
     "execution_count": 8,
     "metadata": {},
     "output_type": "execute_result"
    }
   ],
   "source": [
    "d=dict()\n",
    "type(d)"
   ]
  },
  {
   "cell_type": "code",
   "execution_count": null,
   "id": "904b7f16",
   "metadata": {},
   "outputs": [],
   "source": [
    "2.what is the value of dictionary value with key 'foo' and the value 42 ?\n",
    "Ans: {'foo':42}"
   ]
  },
  {
   "cell_type": "raw",
   "id": "03253e56",
   "metadata": {},
   "source": [
    "3.What is the most significant distinction between a dictionary and a list?\n",
    "Ans:\n",
    "\n",
    "Dictionaries are represented by {} where as listed are represented by [].\n",
    "\n",
    "Dictionary in Python on the other hand is an unordered collection of data values, used to store data values like a map, which unlike other Data Types that hold only single value as an element, Dictionary holds key:value pair. Key-value is provided in the dictionary to make it more optimized. Each key-value pair in a Dictionary is separated by a colon :, whereas each key is separated by a ‘comma’.\n",
    "\n",
    "Lists are just like the arrays, declared in other languages. Lists need not be homogeneous always which makes it a most powerful tool in Python. A single list may contain DataTypes like Integers, Strings, as well as Objects. Lists are mutable, and hence, they can be altered even after their creation."
   ]
  },
  {
   "cell_type": "code",
   "execution_count": null,
   "id": "296c41cd",
   "metadata": {},
   "outputs": [],
   "source": [
    "4.What happens if you try to access spam ['foo'] if spam is {'bar':100} ?\n",
    "Ans: "
   ]
  },
  {
   "cell_type": "code",
   "execution_count": 9,
   "id": "cdafd21c",
   "metadata": {},
   "outputs": [
    {
     "ename": "KeyError",
     "evalue": "'foo'",
     "output_type": "error",
     "traceback": [
      "\u001b[1;31m---------------------------------------------------------------------------\u001b[0m",
      "\u001b[1;31mKeyError\u001b[0m                                  Traceback (most recent call last)",
      "\u001b[1;32m~\\AppData\\Local\\Temp/ipykernel_130576/1717283131.py\u001b[0m in \u001b[0;36m<module>\u001b[1;34m\u001b[0m\n\u001b[0;32m      1\u001b[0m \u001b[0mspam\u001b[0m\u001b[1;33m=\u001b[0m\u001b[1;33m{\u001b[0m\u001b[1;34m'bar'\u001b[0m\u001b[1;33m:\u001b[0m\u001b[1;36m100\u001b[0m\u001b[1;33m}\u001b[0m\u001b[1;33m\u001b[0m\u001b[1;33m\u001b[0m\u001b[0m\n\u001b[1;32m----> 2\u001b[1;33m \u001b[0mspam\u001b[0m\u001b[1;33m[\u001b[0m\u001b[1;34m'foo'\u001b[0m\u001b[1;33m]\u001b[0m\u001b[1;33m\u001b[0m\u001b[1;33m\u001b[0m\u001b[0m\n\u001b[0m",
      "\u001b[1;31mKeyError\u001b[0m: 'foo'"
     ]
    }
   ],
   "source": [
    "spam={'bar':100}\n",
    "spam['foo'].....#we will get a keyError KeyError: 'foo'"
   ]
  },
  {
   "cell_type": "raw",
   "id": "e9b3870b",
   "metadata": {},
   "source": [
    "5.if a dictionary is stored in spam,what is the difference between the expressions 'cat' in spam and 'cat' in spam.keys() ?\n",
    "\n",
    "Ans:There is no difference . The operator checks whether a value exits as a key in the dictionary or not."
   ]
  },
  {
   "cell_type": "raw",
   "id": "e5b14d64",
   "metadata": {},
   "source": [
    "7.what is a shortcut for the following code ?\n",
    "if 'color' not in spam:\n",
    "    spam['color'] ='black'\n",
    "\n"
   ]
  },
  {
   "cell_type": "code",
   "execution_count": 16,
   "id": "2a0de757",
   "metadata": {},
   "outputs": [
    {
     "data": {
      "text/plain": [
       "{'name': 'Pooka', 'age': 5, 'color': 'black'}"
      ]
     },
     "execution_count": 16,
     "metadata": {},
     "output_type": "execute_result"
    }
   ],
   "source": [
    "spam = {'name': 'Pooka', 'age': 5}\n",
    "spam.setdefault('color','black')\n",
    "spam"
   ]
  },
  {
   "cell_type": "raw",
   "id": "18b56b82",
   "metadata": {},
   "source": [
    "8.How do you 'pretty print' dictionary values using which modules and function ?\n",
    "Ans: we can pretty print a dictionary using three functions\n",
    "\n",
    "1) by using pprint() function of pprint module\n",
    " Note: pprint() function doesnot prettify nested dictionaries\n",
    "2) by using dumps() method of json module\n",
    "3) by using dumps() method of yaml module"
   ]
  },
  {
   "cell_type": "code",
   "execution_count": 48,
   "id": "83858309",
   "metadata": {},
   "outputs": [
    {
     "name": "stdout",
     "output_type": "stream",
     "text": [
      "********** Printing using print() function ********** \n",
      " [{'Name': 'pawan', 'Age': '23', 'Residence': {'Country': 'india', 'City': 'delhi'}}, {'Name': 'Raman', 'Age': '44', 'Residence': {'Country': 'canada', 'City': 'Madrid'}}]\n",
      "----------------------------------------------------------------------\n",
      "Printing using pprint() function\n",
      "[{'Age': '23',\n",
      "  'Name': 'pawan',\n",
      "  'Residence': {'City': 'delhi', 'Country': 'india'}},\n",
      " {'Age': '44',\n",
      "  'Name': 'Raman',\n",
      "  'Residence': {'City': 'Madrid', 'Country': 'canada'}}]\n",
      "----------------------------------------------------------------------\n",
      "Printing using dumps() method\n",
      " [\n",
      "    {\n",
      "        \"Name\": \"pawan\",\n",
      "        \"Age\": \"23\",\n",
      "        \"Residence\": {\n",
      "            \"Country\": \"india\",\n",
      "            \"City\": \"delhi\"\n",
      "        }\n",
      "    },\n",
      "    {\n",
      "        \"Name\": \"Raman\",\n",
      "        \"Age\": \"44\",\n",
      "        \"Residence\": {\n",
      "            \"Country\": \"canada\",\n",
      "            \"City\": \"Madrid\"\n",
      "        }\n",
      "    }\n",
      "]\n",
      "----------------------------------------------------------------------\n",
      "Printing using dump() method\n",
      " - Age: '23'\n",
      "  Name: pawan\n",
      "  Residence:\n",
      "    City: delhi\n",
      "    Country: india\n",
      "- Age: '44'\n",
      "  Name: Raman\n",
      "  Residence:\n",
      "    City: Madrid\n",
      "    Country: canada\n",
      "\n"
     ]
    }
   ],
   "source": [
    "#Example\n",
    "\n",
    "ndict = [\n",
    "  {'Name': 'pawan', 'Age': '23', 'Residence': {'Country':'india', 'City': 'delhi'}},\n",
    "  {'Name': 'Raman', 'Age': '44', 'Residence': {'Country':'canada', 'City': 'Madrid'}},\n",
    "]\n",
    "print('*'*10,'Printing using print() function','*'*10, '\\n',ndict)\n",
    "\n",
    "print('-'*70)\n",
    "import pprint\n",
    "print('Printing using pprint() function')\n",
    "pprint.pprint(ndict)\n",
    "print('-'*70)\n",
    "import json\n",
    "dump=json.dumps(ndict,indent=4)\n",
    "print('Printing using dumps() method\\n',dump)\n",
    "print('-'*70)\n",
    "import yaml\n",
    "dump = yaml.dump(ndict)\n",
    "print('Printing using dump() method\\n', dump)\n",
    "\n",
    "\n",
    "\n"
   ]
  },
  {
   "cell_type": "code",
   "execution_count": 28,
   "id": "0295d2ea",
   "metadata": {},
   "outputs": [],
   "source": []
  },
  {
   "cell_type": "code",
   "execution_count": null,
   "id": "8fbed8fa",
   "metadata": {},
   "outputs": [],
   "source": []
  }
 ],
 "metadata": {
  "kernelspec": {
   "display_name": "Python 3 (ipykernel)",
   "language": "python",
   "name": "python3"
  },
  "language_info": {
   "codemirror_mode": {
    "name": "ipython",
    "version": 3
   },
   "file_extension": ".py",
   "mimetype": "text/x-python",
   "name": "python",
   "nbconvert_exporter": "python",
   "pygments_lexer": "ipython3",
   "version": "3.9.7"
  }
 },
 "nbformat": 4,
 "nbformat_minor": 5
}
