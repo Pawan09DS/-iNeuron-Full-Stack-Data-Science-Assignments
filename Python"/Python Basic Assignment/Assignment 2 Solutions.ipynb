{
 "cells": [
  {
   "cell_type": "markdown",
   "id": "8dc3555f",
   "metadata": {},
   "source": [
    "# Assignment 2 Solutions"
   ]
  },
  {
   "cell_type": "markdown",
   "id": "fcaab61f",
   "metadata": {},
   "source": [
    "1.What are the two values of the Boolean data type? How do you write them?\n"
   ]
  },
  {
   "cell_type": "code",
   "execution_count": null,
   "id": "7320af48",
   "metadata": {},
   "outputs": [],
   "source": [
    "Ans-True and False are two values of the boolen data types. \n",
    "We have to use capital T and F and with the rest of the word in lowercase"
   ]
  },
  {
   "cell_type": "code",
   "execution_count": 1,
   "id": "45f50953",
   "metadata": {},
   "outputs": [
    {
     "name": "stdout",
     "output_type": "stream",
     "text": [
      "True <class 'bool'>\n",
      "False <class 'bool'>\n"
     ]
    }
   ],
   "source": [
    "a=True\n",
    "b=False\n",
    "print(a,type(a))\n",
    "print(b,type(b))"
   ]
  },
  {
   "cell_type": "markdown",
   "id": "d410df6e",
   "metadata": {},
   "source": [
    "What are the three different types of Boolean operators?"
   ]
  },
  {
   "cell_type": "code",
   "execution_count": null,
   "id": "7fbcb7da",
   "metadata": {},
   "outputs": [],
   "source": [
    "Ans-The three differnt types of Boolean operators in python are: AND,OR and not."
   ]
  },
  {
   "cell_type": "code",
   "execution_count": 4,
   "id": "2ea3f35a",
   "metadata": {},
   "outputs": [
    {
     "name": "stdout",
     "output_type": "stream",
     "text": [
      "True\n",
      "True\n",
      "True\n"
     ]
    }
   ],
   "source": [
    "a=50\n",
    "b=40\n",
    "print(a>12 and b>22) # Example of boolean AND\n",
    "print(a>15 or b>20) # Example of boolean OR\n",
    "print(not(a>10 and b<30)) # Example of boolean NOT"
   ]
  },
  {
   "cell_type": "raw",
   "id": "67ef481b",
   "metadata": {},
   "source": [
    "3. Make a list of each Boolean operator's truth tables (i.e. every possible combination of Boolean values for the operator and what it evaluate) ?"
   ]
  },
  {
   "cell_type": "markdown",
   "id": "9106046e",
   "metadata": {},
   "source": [
    "Ans: The Truth tables for the boolean tables are as follows:\n",
    "\n",
    "Truth Table for AND operator-\n",
    "\n",
    "True and True is True\n",
    "True and False is False\n",
    "False and True is False\n",
    "False and False is False\n",
    "\n",
    "Truth Table for OR operator-\n",
    "\n",
    "True or True is True\n",
    "True or False is True\n",
    "False or True is True\n",
    "False or False is False\n",
    "\n",
    "Truth Table for NOT operator-\n",
    "\n",
    "not True is False.\n",
    "\n",
    "not False is True."
   ]
  },
  {
   "cell_type": "raw",
   "id": "8baba4ca",
   "metadata": {},
   "source": [
    "4. What are the values of the following expressions?\n",
    "(5 > 4) and (3 == 5)\n",
    "not (5 > 4)\n",
    "(5 > 4) or (3 == 5)\n",
    "not ((5 > 4) or (3 == 5))\n",
    "(True and True) and (True == False)\n",
    "(not False) or (not True)\n"
   ]
  },
  {
   "cell_type": "code",
   "execution_count": 10,
   "id": "046395f9",
   "metadata": {},
   "outputs": [
    {
     "name": "stdout",
     "output_type": "stream",
     "text": [
      "False\n",
      "False\n",
      "True\n",
      "False\n",
      "False\n",
      "True\n"
     ]
    }
   ],
   "source": [
    "print((5 > 4) and (3 == 5)) # False\n",
    "print(not (5 > 4)) ##False\n",
    "print((5 > 4) or (3 == 5)) #True\n",
    "print(not ((5 > 4) or (3 == 5)))#False\n",
    "print((True and True) and (True == False))#False\n",
    "print((not False) or (not True)) #True\n"
   ]
  },
  {
   "cell_type": "raw",
   "id": "e015fadf",
   "metadata": {},
   "source": [
    "5. What are the six comparison operators?"
   ]
  },
  {
   "cell_type": "raw",
   "id": "b8109c10",
   "metadata": {},
   "source": [
    "Python has six comparison operators, which are as follows:\n",
    "\n",
    "Less than ( < )\n",
    "Less than or equal to (<=)\n",
    "Greater than (>)\n",
    "Greater than or equal to (>=)\n",
    "Equal to ( == )\n",
    "Not equal to ( != )"
   ]
  },
  {
   "cell_type": "raw",
   "id": "7bfad2df",
   "metadata": {},
   "source": [
    "6. How do you tell the difference between the equal to and assignment operators?Describe a condition and when you would use one."
   ]
  },
  {
   "cell_type": "raw",
   "id": "f25ca44b",
   "metadata": {},
   "source": [
    "\"=\" operator:-\n",
    "    The “=” is an assignment operator is used to assign the value on the right to the variable on the left.\n",
    "\"==\" operator:-\n",
    "The ‘==’ operator checks whether the two given operands are equal or not. If so, it returns true. Otherwise it returns false.\n"
   ]
  },
  {
   "cell_type": "code",
   "execution_count": 21,
   "id": "9d0cf6b8",
   "metadata": {},
   "outputs": [
    {
     "name": "stdout",
     "output_type": "stream",
     "text": [
      "True\n"
     ]
    }
   ],
   "source": [
    "p=10 # Assigning operator that stores 10 value in a variable p.\n",
    "if p==10:\n",
    "    print(p==10)#comparing values of a varible value and 10\n"
   ]
  },
  {
   "cell_type": "raw",
   "id": "3976bce9",
   "metadata": {},
   "source": [
    "7. Identify the three blocks in this code:\n",
    "spam = 0\n",
    "if spam == 10:\n",
    "print('eggs')\n",
    "if spam > 5:\n",
    "print('bacon')\n",
    "else:\n",
    "print('ham')\n",
    "print('spam')\n",
    "print('spam')\n"
   ]
  },
  {
   "cell_type": "raw",
   "id": "abb513e3",
   "metadata": {},
   "source": [
    "Ans-In Python, code block refers to a collection of code that is in the same block or indent. This is most commonly found in classes, functions, and loops."
   ]
  },
  {
   "cell_type": "code",
   "execution_count": 22,
   "id": "e5d1c3bc",
   "metadata": {},
   "outputs": [
    {
     "name": "stdout",
     "output_type": "stream",
     "text": [
      "ham\n",
      "spam\n",
      "spam\n"
     ]
    }
   ],
   "source": [
    "\n",
    "spam = 0\n",
    "if spam == 10:\n",
    "    print('eggs') #block1\n",
    "if spam > 5:\n",
    "    print('bacon')#block2\n",
    "else:\n",
    "    print('ham') #block3\n",
    "print('spam')\n",
    "print('spam')\n"
   ]
  },
  {
   "cell_type": "raw",
   "id": "587da54f",
   "metadata": {},
   "source": [
    "8. Write code that prints Hello if 1 is stored in spam, prints Howdy if 2 is stored in spam, and prints Greetings! if anything else is stored in spam."
   ]
  },
  {
   "cell_type": "code",
   "execution_count": 47,
   "id": "b2b78c69",
   "metadata": {},
   "outputs": [
    {
     "name": "stdout",
     "output_type": "stream",
     "text": [
      "Hello\n",
      "Howdy\n",
      "Greetings!\n"
     ]
    }
   ],
   "source": [
    "def spam_Code(spam):\n",
    "    if spam==1:\n",
    "        print(\"Hello\")\n",
    "    elif spam==2:\n",
    "        print(\"Howdy\")\n",
    "    else:\n",
    "        print(\"Greetings!\")\n",
    "    \n",
    "spam_Code(1)\n",
    "spam_Code(2)\n",
    "spam_Code(5)"
   ]
  },
  {
   "cell_type": "raw",
   "id": "663f160b",
   "metadata": {},
   "source": [
    "9.If your programme is stuck in an endless loop, what keys you’ll press?"
   ]
  },
  {
   "cell_type": "raw",
   "id": "3279e7cf",
   "metadata": {},
   "source": [
    "Ans- The break statement will move the execution outside the loop if break condtion is satisfied. Whereas the continue statement will move the execution to the start of the loop."
   ]
  },
  {
   "cell_type": "raw",
   "id": "119e6ecd",
   "metadata": {},
   "source": [
    "11. In a for loop, what is the difference between range(10), range(0, 10), and range(0, 10, 1)?"
   ]
  },
  {
   "cell_type": "code",
   "execution_count": null,
   "id": "dc53511c",
   "metadata": {},
   "outputs": [],
   "source": [
    "Ans- The Differences are as follows:\n",
    "\n",
    "The range(10) ....call range from 0 to 9 (but not include 10)\n",
    "The range (0,10).... explicitly tells the loop to start at 0\n",
    "The range(0,10,1)... explicitly tells the loop to increase the variable by 1 on each iteration"
   ]
  },
  {
   "cell_type": "raw",
   "id": "6cee9a97",
   "metadata": {},
   "source": [
    "12. Write a short program that prints the numbers 1 to 10 using a for loop. Then write an equivalent program that prints the numbers 1 to 10 using a while loop ?"
   ]
  },
  {
   "cell_type": "code",
   "execution_count": 3,
   "id": "3d71f645",
   "metadata": {},
   "outputs": [
    {
     "name": "stdout",
     "output_type": "stream",
     "text": [
      "***** Using for Loop *****\n",
      "1\n",
      "2\n",
      "3\n",
      "4\n",
      "5\n",
      "6\n",
      "7\n",
      "8\n",
      "9\n",
      "10\n",
      "***** Using while Loop *****\n",
      "1\n",
      "2\n",
      "3\n",
      "4\n",
      "5\n",
      "6\n",
      "7\n",
      "8\n",
      "9\n",
      "10\n"
     ]
    }
   ],
   "source": [
    "print('*'*5,'Using for Loop','*'*5)\n",
    "for i in range(1,11):\n",
    "    print(i)\n",
    "    \n",
    "print('*'*5,'Using while Loop','*'*5)\n",
    "i=1\n",
    "while i<11:\n",
    "    print(i)\n",
    "    i+=1\n",
    "\n",
    "    \n"
   ]
  },
  {
   "cell_type": "raw",
   "id": "1c150a78",
   "metadata": {},
   "source": [
    "13. If you had a function named bacon() inside a module named spam, how would you call it after importing spam ?"
   ]
  },
  {
   "cell_type": "raw",
   "id": "9ab82884",
   "metadata": {},
   "source": [
    "Ans: This function can be called with spam.bacon()."
   ]
  }
 ],
 "metadata": {
  "kernelspec": {
   "display_name": "Python 3 (ipykernel)",
   "language": "python",
   "name": "python3"
  },
  "language_info": {
   "codemirror_mode": {
    "name": "ipython",
    "version": 3
   },
   "file_extension": ".py",
   "mimetype": "text/x-python",
   "name": "python",
   "nbconvert_exporter": "python",
   "pygments_lexer": "ipython3",
   "version": "3.9.7"
  }
 },
 "nbformat": 4,
 "nbformat_minor": 5
}
