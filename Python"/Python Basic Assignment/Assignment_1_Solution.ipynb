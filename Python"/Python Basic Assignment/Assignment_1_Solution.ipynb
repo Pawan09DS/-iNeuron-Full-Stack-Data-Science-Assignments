{
 "cells": [
  {
   "cell_type": "markdown",
   "id": "3fb1cd0b",
   "metadata": {},
   "source": [
    "# Assignment _ 1"
   ]
  },
  {
   "cell_type": "markdown",
   "id": "51629af1",
   "metadata": {},
   "source": [
    "# 1. In the below elements which of them are values or an expression? eg:- values can be integer or string and expressions will be mathematical operators.\n",
    "\n",
    "* \n",
    "'hello'\n",
    "-87.8\n",
    "- \n",
    "/ \n",
    "+\t\n",
    "6 \n"
   ]
  },
  {
   "cell_type": "code",
   "execution_count": 1,
   "id": "91c3707c",
   "metadata": {},
   "outputs": [
    {
     "ename": "SyntaxError",
     "evalue": "invalid syntax (Temp/ipykernel_112680/3414793400.py, line 1)",
     "output_type": "error",
     "traceback": [
      "\u001b[1;36m  File \u001b[1;32m\"C:\\Users\\91945\\AppData\\Local\\Temp/ipykernel_112680/3414793400.py\"\u001b[1;36m, line \u001b[1;32m1\u001b[0m\n\u001b[1;33m    * ### It is a expression.It is a Python Arithmetic Operators.\u001b[0m\n\u001b[1;37m      ^\u001b[0m\n\u001b[1;31mSyntaxError\u001b[0m\u001b[1;31m:\u001b[0m invalid syntax\n"
     ]
    }
   ],
   "source": [
    "* ### It is a expression.It is a Python Arithmetic Operators.\n",
    "    Arithmetic operators are used with numeric values to perform common mathematical operations.\n",
    "    It is a Multiplication operator.###"
   ]
  },
  {
   "cell_type": "code",
   "execution_count": null,
   "id": "e6d813ec",
   "metadata": {},
   "outputs": [],
   "source": [
    "type('hello')##It is a values."
   ]
  },
  {
   "cell_type": "code",
   "execution_count": null,
   "id": "a69520bb",
   "metadata": {},
   "outputs": [],
   "source": [
    "type(-87.8)## It is a values."
   ]
  },
  {
   "cell_type": "code",
   "execution_count": null,
   "id": "d9f1678a",
   "metadata": {},
   "outputs": [],
   "source": [
    "- ### It is a expression,It is a Subtraction operator.###"
   ]
  },
  {
   "cell_type": "code",
   "execution_count": null,
   "id": "a1a6390b",
   "metadata": {},
   "outputs": [],
   "source": [
    "/ ### It is a expression,It is a Division operator.###"
   ]
  },
  {
   "cell_type": "code",
   "execution_count": null,
   "id": "aa56a375",
   "metadata": {},
   "outputs": [],
   "source": [
    "+ ### It is a expression,it is a Addition operator."
   ]
  },
  {
   "cell_type": "code",
   "execution_count": null,
   "id": "22b1f49c",
   "metadata": {},
   "outputs": [],
   "source": [
    "type(6) ## It is a int value.##"
   ]
  },
  {
   "cell_type": "markdown",
   "id": "2c113af9",
   "metadata": {},
   "source": [
    "# 2. What is the difference between string and variable?"
   ]
  },
  {
   "cell_type": "code",
   "execution_count": null,
   "id": "34c8508a",
   "metadata": {},
   "outputs": [],
   "source": [
    "Ans-Variables are symbols that you can use to store data in a program. \n",
    "You can think of them as an empty box that you fill with some data or value. \n",
    "Strings are data, so we can use them to fill up a variable. \n",
    "Declaring strings as variables can make it easier for us to work with strings throughout our Python programs."
   ]
  },
  {
   "cell_type": "markdown",
   "id": "ac4129e3",
   "metadata": {},
   "source": [
    "# 3. Describe three different data types."
   ]
  },
  {
   "cell_type": "code",
   "execution_count": null,
   "id": "bc2e5ae5",
   "metadata": {},
   "outputs": [],
   "source": [
    "Ans-In programming, data type is an important concept.\n",
    "\n",
    "Variables can store data of different types, and different types can do different things.\n",
    "\n",
    "Python has the following data types built-in by default, in these categories:\n",
    "A) Text Type:\tstr\n",
    "B) Numeric Types:\tint, float, complex\n",
    "C) Sequence Types:\tlist, tuple, range   "
   ]
  },
  {
   "cell_type": "markdown",
   "id": "f6677e73",
   "metadata": {},
   "source": [
    "# 4. What is an expression made up of? What do all expressions do?"
   ]
  },
  {
   "cell_type": "code",
   "execution_count": null,
   "id": "12e155fa",
   "metadata": {},
   "outputs": [],
   "source": [
    "Ans-An expression is a combination of operators and operands that is interpreted to produce some other value. \n",
    "In any programming language, an expression is evaluated as per the precedence of its operators.\n",
    "So that if there is more than one operator in an expression, their precedence decides which operation will be performed first."
   ]
  },
  {
   "cell_type": "markdown",
   "id": "ee52bb3d",
   "metadata": {},
   "source": [
    "# 5. This assignment statements, like spam = 10. What is the difference between an expression and a statement?"
   ]
  },
  {
   "cell_type": "code",
   "execution_count": null,
   "id": "4f80781e",
   "metadata": {},
   "outputs": [],
   "source": [
    "Ans-Expression is made up of values,\n",
    "containers, and mathematical operators (operands)\n",
    "and the statement is just like a command that a python interpreter executes like print."
   ]
  },
  {
   "cell_type": "markdown",
   "id": "b1415304",
   "metadata": {},
   "source": [
    "# 6. After running the following code, what does the variable bacon contain?\n",
    "bacon = 22\n",
    "bacon + 1\n"
   ]
  },
  {
   "cell_type": "code",
   "execution_count": 3,
   "id": "37fe03d6",
   "metadata": {},
   "outputs": [
    {
     "data": {
      "text/plain": [
       "23"
      ]
     },
     "execution_count": 3,
     "metadata": {},
     "output_type": "execute_result"
    }
   ],
   "source": [
    "Ans- bacon = 22\n",
    "    bacon + 1## bacon=bacon+1....it gives 23 as execution code ."
   ]
  },
  {
   "cell_type": "markdown",
   "id": "142f8d65",
   "metadata": {},
   "source": [
    "# 7. What should the values of the following two terms be?\n",
    "'spam' + 'spamspam'\n",
    "'spam' * 3\n"
   ]
  },
  {
   "cell_type": "code",
   "execution_count": 3,
   "id": "9ce379c3",
   "metadata": {},
   "outputs": [
    {
     "data": {
      "text/plain": [
       "'spamspamspam'"
      ]
     },
     "execution_count": 3,
     "metadata": {},
     "output_type": "execute_result"
    }
   ],
   "source": [
    "'spam' + 'spamspam'\n",
    "'spam' * 3     ####..........Answer should be same in both case."
   ]
  },
  {
   "cell_type": "markdown",
   "id": "db44c4c2",
   "metadata": {},
   "source": [
    "# 8. Why is eggs a valid variable name while 100 is invalid?"
   ]
  },
  {
   "cell_type": "code",
   "execution_count": null,
   "id": "185aa8da",
   "metadata": {},
   "outputs": [],
   "source": [
    "Ans: Variable names are case-sensitive,So we can't start giving variable an integer name.\n",
    "    if we, we should begin with, a string-like alphabet name then integer. e100 or eggs100 is valid"
   ]
  },
  {
   "cell_type": "markdown",
   "id": "d5632be8",
   "metadata": {},
   "source": [
    "## 9. What three functions can be used to get the integer,\n",
    "floating-point number, or string version of a value?"
   ]
  },
  {
   "cell_type": "code",
   "execution_count": null,
   "id": "6951f98c",
   "metadata": {},
   "outputs": [],
   "source": [
    "ans: str(), int(), float()"
   ]
  },
  {
   "cell_type": "markdown",
   "id": "c78f8d0d",
   "metadata": {},
   "source": [
    "# 10. Why does this expression cause an error? How can you fix it?\n",
    "\n",
    "'I have eaten' + 99 + 'burritos' "
   ]
  },
  {
   "cell_type": "code",
   "execution_count": 14,
   "id": "b25f7f52",
   "metadata": {},
   "outputs": [
    {
     "data": {
      "text/plain": [
       "'I have eaten99burritos'"
      ]
     },
     "execution_count": 14,
     "metadata": {},
     "output_type": "execute_result"
    }
   ],
   "source": [
    "'I have eaten' + str(99) + 'burritos'    ### Because 99 is an integer ###\n",
    "                                          ###it cannot be concatenated with strings###\n",
    "                                        ### if we have to concatenate it we need to do typecasting.###\n",
    "    \n",
    "    \n"
   ]
  },
  {
   "cell_type": "code",
   "execution_count": null,
   "id": "eb0a24af",
   "metadata": {},
   "outputs": [],
   "source": [
    "\n"
   ]
  }
 ],
 "metadata": {
  "kernelspec": {
   "display_name": "Python 3 (ipykernel)",
   "language": "python",
   "name": "python3"
  },
  "language_info": {
   "codemirror_mode": {
    "name": "ipython",
    "version": 3
   },
   "file_extension": ".py",
   "mimetype": "text/x-python",
   "name": "python",
   "nbconvert_exporter": "python",
   "pygments_lexer": "ipython3",
   "version": "3.9.7"
  }
 },
 "nbformat": 4,
 "nbformat_minor": 5
}
