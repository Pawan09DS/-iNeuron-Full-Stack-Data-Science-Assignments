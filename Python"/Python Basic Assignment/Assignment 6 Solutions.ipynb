{
 "cells": [
  {
   "cell_type": "markdown",
   "id": "6dc66306",
   "metadata": {},
   "source": [
    "# Assignment 6 Solutions"
   ]
  },
  {
   "cell_type": "raw",
   "id": "7d450277",
   "metadata": {},
   "source": [
    "1.What are Escape characters ? and how do you use them ?\n",
    "Ans-To insert characters that are illegal in a string, use an escape character.An escape character is a backslash \\ followed by the character you want to insert.\n",
    "An example of an illegal character is a double quote inside a string that is surrounded by double quotes:\n",
    "\n"
   ]
  },
  {
   "cell_type": "code",
   "execution_count": 3,
   "id": "992f8666",
   "metadata": {},
   "outputs": [
    {
     "name": "stdout",
     "output_type": "stream",
     "text": [
      "We are the so-called \"Vikings\" from the north.\n"
     ]
    }
   ],
   "source": [
    "#examle\n",
    "txt = \"We are the so-called \\\"Vikings\\\" from the north.\"\n",
    "print(txt)...#Other escape characters used in Python:\\n,\\t\n",
    "\n"
   ]
  },
  {
   "cell_type": "raw",
   "id": "13cac2ac",
   "metadata": {},
   "source": [
    "2.What do the escape characters n and t stand for ?\n",
    "Ans: \\n is a newline, \\t is a tab"
   ]
  },
  {
   "cell_type": "raw",
   "id": "b9eadfa4",
   "metadata": {},
   "source": [
    "3.What is the way to include backslash character in a string?\n",
    "Ans: The \\\\ escape character will represent the backslash character in a string."
   ]
  },
  {
   "cell_type": "code",
   "execution_count": 6,
   "id": "be3d4828",
   "metadata": {},
   "outputs": [
    {
     "name": "stdout",
     "output_type": "stream",
     "text": [
      "pawan\\kumar\\mishra\n"
     ]
    },
    {
     "data": {
      "text/plain": [
       "NoneType"
      ]
     },
     "execution_count": 6,
     "metadata": {},
     "output_type": "execute_result"
    }
   ],
   "source": [
    "txt1=\"pawan\\\\kumar\\\\mishra\"\n",
    "print(txt1)"
   ]
  },
  {
   "cell_type": "raw",
   "id": "24a19d93",
   "metadata": {},
   "source": [
    "4.The string \"Howl's Moving Castle\" is a correct value. Why isn't the single quote character in the word Howl's not escaped a problem ?"
   ]
  },
  {
   "cell_type": "raw",
   "id": "86b3f030",
   "metadata": {},
   "source": [
    "Ans: The string \"Howl's Moving Castle\" escaped the problem because it is wrapped inside double quotes. if its wrapped inside single quotes then we have to use escape character \\' to show single quote in the final output\n",
    "'Howl\\'s Moving Castle' -> 'Howl's Moving Castle'"
   ]
  },
  {
   "cell_type": "raw",
   "id": "e8abfb7e",
   "metadata": {},
   "source": [
    "5.How do you write a string of newlines if you don't want to use the n character?\n",
    "Ans-Multiline string allow you to use newlines in string without the \\n escape character\n"
   ]
  },
  {
   "cell_type": "code",
   "execution_count": 18,
   "id": "cb0a05c3",
   "metadata": {},
   "outputs": [
    {
     "name": "stdout",
     "output_type": "stream",
     "text": [
      "My collage name is \n",
      "cert meerut   !!!!\n"
     ]
    }
   ],
   "source": [
    "##example\n",
    "\n",
    "a='''My collage name is \n",
    "cert meerut   !!!!'''\n",
    "print(a)"
   ]
  },
  {
   "cell_type": "raw",
   "id": "14bf1556",
   "metadata": {},
   "source": [
    "6.What are the values of the given expressions ?\n",
    "'Hello, world!'[1]\n",
    "'Hello, world!'[0:5]\n",
    "'Hello, world!'[:5]\n",
    "'Hello, world!'[3:]"
   ]
  },
  {
   "cell_type": "code",
   "execution_count": 22,
   "id": "f24c50ac",
   "metadata": {},
   "outputs": [
    {
     "name": "stdout",
     "output_type": "stream",
     "text": [
      "e\n",
      "Hello\n",
      "Hello\n",
      "lo, world!\n"
     ]
    }
   ],
   "source": [
    "print('Hello, world!'[1])\n",
    "print('Hello, world!'[0:5])\n",
    "print('Hello, world!'[:5])\n",
    "print('Hello, world!'[3:])"
   ]
  },
  {
   "cell_type": "raw",
   "id": "745c625c",
   "metadata": {},
   "source": [
    "7. What are the values of the following expressions?\n",
    "'Hello'.upper()\n",
    "'Hello'.upper().isupper()\n",
    "'Hello'.upper().lower()\n"
   ]
  },
  {
   "cell_type": "code",
   "execution_count": 24,
   "id": "c31716e5",
   "metadata": {},
   "outputs": [
    {
     "name": "stdout",
     "output_type": "stream",
     "text": [
      "HELLO\n",
      "True\n",
      "hello\n"
     ]
    }
   ],
   "source": [
    "print('Hello'.upper())\n",
    "print('Hello'.upper().isupper())\n",
    "print('Hello'.upper().lower())"
   ]
  },
  {
   "cell_type": "raw",
   "id": "014e8652",
   "metadata": {},
   "source": [
    "8. What are the values of the following expressions?\n",
    "'Remember, remember, the fifth of July.'.split()\n",
    "'-'.join('There can only one.'.split())\n"
   ]
  },
  {
   "cell_type": "code",
   "execution_count": 33,
   "id": "8001b610",
   "metadata": {},
   "outputs": [
    {
     "name": "stdout",
     "output_type": "stream",
     "text": [
      "['Remember,', 'remember,', 'the', 'fifth', 'of', 'July.']\n",
      "There-can-only-one.\n"
     ]
    }
   ],
   "source": [
    "#Ans\n",
    "print('Remember, remember, the fifth of July.'.split())..#['Remember,', 'remember,', 'the', 'fifth', 'of', 'July.']\n",
    "print('-'.join('There can only one.'.split()))..#There-can-only-one.\n"
   ]
  },
  {
   "cell_type": "raw",
   "id": "55461055",
   "metadata": {},
   "source": [
    "9. What are the methods for right-justifying, left-justifying, and centering a string?\n",
    "Ans: The rjust(),ljust(),center() string methods, respectively\n"
   ]
  },
  {
   "cell_type": "raw",
   "id": "fc58db5c",
   "metadata": {},
   "source": [
    "10.What is the best way to remove whitespace characters from the start or end ?\n",
    "Ans: The lstrip() and rstrip() methods remove whitesapce characters from the left and right ends of a string respectively"
   ]
  }
 ],
 "metadata": {
  "kernelspec": {
   "display_name": "Python 3 (ipykernel)",
   "language": "python",
   "name": "python3"
  },
  "language_info": {
   "codemirror_mode": {
    "name": "ipython",
    "version": 3
   },
   "file_extension": ".py",
   "mimetype": "text/x-python",
   "name": "python",
   "nbconvert_exporter": "python",
   "pygments_lexer": "ipython3",
   "version": "3.9.7"
  }
 },
 "nbformat": 4,
 "nbformat_minor": 5
}
